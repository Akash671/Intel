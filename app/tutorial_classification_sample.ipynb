{
 "cells": [
  {
   "cell_type": "markdown",
   "metadata": {},
   "source": [
    "<a id=\"top\"></a>\n",
    "# Classification Tutorial"
   ]
  },
  {
   "cell_type": "markdown",
   "metadata": {},
   "source": [
    "## OpenVINO version check:\n",
    "You are currently using the latest development version of Intel® Distribution of OpenVINO™ Toolkit. Alternatively, you can open a version of this notebook for the Intel® Distribution of OpenVINO™ Toolkit LTS version by [clicking this link](../../../openvino-lts/tutorials/classification/tutorial_classification_sample.ipynb)."
   ]
  },
  {
   "cell_type": "markdown",
   "metadata": {},
   "source": [
    "## Prerequisites\n",
    "\n",
    "This tutorial requires the following:\n",
    "- All files are present and in the following directory structure:\n",
    "    - **tutorial_classification_sample.ipynb** - This Jupyter* Notebook\n",
    "    - **squeezenet1.1/squeezenet1.1.bin and squeezenet1.1/squeezenet1.1.xml** - The IR files for the inference model created using Model Optimizer\n",
    "    - **squeezenet1.1/squeezenet1.1.labels.txt** - Mapping of numerical labels to text strings\n",
    "    - **dog.jpg** - Test image\n",
    "    - **cat.jpg** - Test image\n",
    "    - **bird.jpg** - Test image\n",
    "    - **doc_*.png** - Images used in the documentation\n",
    "- Optional: URL to user's image to run inference on\n",
    "\n",
    "<br><div class=note><i><b>Note: </b>It is assumed that the server this tutorial is being run on has Jupyter* Notebook, the Intel® Distribution of OpenVINO™ toolkit, and other required libraries already installed.  If you download or copy to a new server, this tutorial may not run.</i></div>  "
   ]
  },
  {
   "cell_type": "markdown",
   "metadata": {},
   "source": [
    "## Introduction\n",
    "\n",
    "The purpose of this tutorial is to examine a sample application that was created using the [Intel® Distribution of Open Visual Inference & Neural Network Optimization (OpenVINO™) toolkit](https://software.intel.com/openvino-toolkit).  This tutorial will go step-by-step through the necessary steps to demonstrate object classification on images and batches of images.  Classification is performed using a pre-trained network and running it using the Intel® Distribution of OpenVINO™ toolkit Inference Engine.  Inference will be executed using the same CPU(s) running this Jupyter* Notebook.\n",
    "\n",
    "The pre-trained model to be used for object detection is the [\"squeezenet1.1\"](https://github.com/DeepScale/SqueezeNet/) which has already been converted to the necessary Intermediate Representation (IR) files needed by the Inference Engine (Conversion is not covered here, please see the [Intel® Distribution of OpenVINO™ toolkit](https://software.intel.com/en-us/openvino-toolkit) documentation for more details).  The model is capable of classifying and reporting the probability of 1000 different objects including different species of cats, dogs, birds, insects, etc. (see `squeezenet1.1/squeezenet1.1.labels.txt` file for complete list).  "
   ]
  },
  {
   "cell_type": "markdown",
   "metadata": {},
   "source": [
    "### Key concepts\n",
    "\n",
    "Before going into the samples in the tutorial steps, first we will go over some key concepts that will be covered in this tutorial."
   ]
  },
  {
   "cell_type": "markdown",
   "metadata": {},
   "source": [
    "#### Intel® distribution of OpenVINO™ toolkit overview and terminology\n",
    "\n",
    "Let us begin with a brief overview of the Intel® Distribution of OpenVINO™ toolkit and what this tutorial will be covering.  The Intel® Distribution of OpenVINO™ toolkit enables the quick deployment of convolutional neural networks (CNN) for heterogeneous execution on Intel® hardware while maximizing performance. This is done using the Intel® Deep Learning Deployment Toolkit (Intel® DLDT) included within the Intel® Distribution of OpenVINO™ toolkit with its main components shown below.\n",
    "\n",
    "![image alt text](./doc_openvino_overview_image.png)\n",
    "\n",
    "The basic flow is:\n",
    "\n",
    "1. Use a tool, such as Caffe*, to create and train a CNN inference model\n",
    "\n",
    "2. Run the created model through Model Optimizer to produce an optimized Intermediate Representation (IR) stored in files (`.bin` and `.xml`) for use with the Inference Engine\n",
    "\n",
    "3. The User Application then loads and runs models on devices using the Inference Engine and the IR files  \n",
    "\n",
    "This tutorial will focus on the last step, the User Application and using the Inference Engine to run a model on a CPU.\n",
    "\n",
    "##### Using the inference engine\n",
    "\n",
    "Below is a more detailed view of the User Application and Inference Engine:\n",
    "\n",
    "![image alt text](./doc_inference_engine_image.png)\n",
    "\n",
    "The Inference Engine includes a plugin library for each supported device that has been optimized for the Intel® hardware device CPU, GPU, and VPU.  From here, we will use the terms \"device\" and “plugin” with the assumption that one infers the other (e.g. CPU device infers the CPU plugin and vice versa).  As part of loading the model, the User Application tells the Inference Engine which device to target which in turn loads the associated plugin library to later run on the associated device. The Inference Engine uses “blobs” for all data exchanges, basically arrays in memory arranged according the input and output data of the model.\n",
    "\n",
    "###### Inference engine API integration flow\n",
    "\n",
    "Using the inference engine API follows the basic steps outlined briefly below.  The API objects and functions will be seen later in the sample code.\n",
    "\n",
    "1. Load the plugin\n",
    "\n",
    "2. Read the model IR\n",
    "\n",
    "3. Load the model into the plugin\n",
    "\n",
    "6. Prepare the input\n",
    "\n",
    "7. Run inference\n",
    "\n",
    "8. Process the output\n",
    "\n",
    "More details on the Inference Engine can be found in the [Inference Engine Development Guide](https://docs.openvinotoolkit.org/latest/_docs_IE_DG_Deep_Learning_Inference_Engine_DevGuide.html)"
   ]
  },
  {
   "cell_type": "markdown",
   "metadata": {},
   "source": [
    "### Input preprocessing\n",
    "\n",
    "Often, the dimensions of the input data does not match the required dimensions of the input data for the inference model.  A common example is an input video frame.  Before the image may be input to the inference model, the input must be preprocessed to match the required dimensions for the inference model as well as channels (i.e. colors) and batch size (number of images present).  The basic step performed is to resize the frame from the source dimensions to match the required dimensions of the inference model’s input, reorganizing any dimensions as needed.\n",
    "\n",
    "This tutorial and the many samples in the Intel® Distribution of OpenVINO™ toolkit use OpenCV to perform resizing of input data.  The basic steps performed using OpenCV are:\n",
    "\n",
    "1.  Resize image dimensions form image to model's input W x H:<br>\n",
    "`    frame = cv2.resize(image, (w, h))`\n",
    "   \n",
    "2. Change data layout from (H x W x C) to (C x H x W)<br>\n",
    "`    frame = frame.transpose((2, 0, 1))`  \n",
    "\n",
    "3. Reshape to match input dimensions<br>\n",
    "`    frame = frame.reshape((n, c, h, w))`"
   ]
  },
  {
   "cell_type": "markdown",
   "metadata": {},
   "source": [
    "### Batch size\n",
    "Batch size refers to the number of input data to be inferred during a single inference run through the Inference Engine.  Things to be aware of the batch size for an inference model:\n",
    "\n",
    "#### Batch size and its effects on input and output data is model dependent\n",
    "\n",
    "* The output batch size may scale with input batch size.  For example, the classification model used in this tutorial will have one output for each input.\n",
    "\n",
    "* The output may contain results across all batched inputs.  For example, the object detection model used in \n",
    "the **Jupyter Notebook Object Detection Sample Tutorial** gives one set of outputs regardless of input batch size, with each output indicating to which input the results belong.\n",
    "\n",
    "#### How batch size is set\n",
    "\n",
    "* The default setting is located in the model’s IR which is set either by:\n",
    "\n",
    "   * The [Model Optimizer](https://docs.openvinotoolkit.org/latest/_docs_MO_DG_Deep_Learning_Model_Optimizer_DevGuide.html) command line option when creating the IR files\n",
    "\n",
    "   * Or from the original source (e.g. Caffe) in which can be read using the Inference Engine API \n",
    "\n",
    "* Batch size may be set explicitly using the Inference Engine API setting *batch_size* field of the created IENetwork object.  Later in the [Inferring Input Images in Batches](#Inferring-Input-Images-in-Batches) section of this tutorial, converting from a single input image to a batch of input images will be shown to highlight the differences."
   ]
  },
  {
   "cell_type": "markdown",
   "metadata": {},
   "source": [
    "### Performance counters\n",
    "\n",
    "During inference execution, performance counts (metrics) are kept per layer.  Included with the counts, are the time spent and the \"execution type\" that indicates which device the layer was executed.  The performance counts may be retrieved from an internal request object after inference has completed and calling `get_perf_counts()`.  An example is shown in the [Report Performance counters](#Report-Performance-Counters) step of this tutorial."
   ]
  },
  {
   "cell_type": "markdown",
   "metadata": {},
   "source": [
    "## Sample application\n",
    "\n",
    "The following sections will guide you through a sample application"
   ]
  },
  {
   "cell_type": "markdown",
   "metadata": {},
   "source": [
    "### Imports\n",
    "\n",
    "We begin by importing all of the Python* modules that will be used by the sample code:\n",
    "- [os](https://docs.python.org/3/library/os.html#module-os) - Operating system specific module (used for file name parsing)\n",
    "- [cv2](https://docs.opencv.org/trunk/) - OpenCV module\n",
    "- [time](https://docs.python.org/3/library/time.html#module-time) - time tracking module (used for measuring execution time)\n",
    "- [numpy](http://www.numpy.org/) - n-dimensional array manipulation\n",
    "- [openvino.inference_engine](https://software.intel.com/en-us/articles/OpenVINO-InferEngine) - the IENetwork and IECore objects\n",
    "- [matplotlib](https://matplotlib.org/) - pyplot is used for displaying output images\n",
    "\n",
    "Run the cell below to import Python dependencies needed for displaying the results in this notebook. \n",
    "\n",
    "<br><div class=tip><b>Tip: </b>Select a cell and then use **Ctrl+Enter** to run that cell.</div>"
   ]
  },
  {
   "cell_type": "code",
   "execution_count": null,
   "metadata": {
    "ExecuteTime": {
     "end_time": "2020-09-25T21:07:42.872108Z",
     "start_time": "2020-09-25T21:07:42.176250Z"
    }
   },
   "outputs": [],
   "source": [
    "import os\n",
    "import cv2\n",
    "import time\n",
    "import numpy as np\n",
    "from openvino.inference_engine import IECore\n",
    "%matplotlib inline\n",
    "from matplotlib import pyplot as plt\n",
    "print('Imported Python modules successfully.')"
   ]
  },
  {
   "cell_type": "markdown",
   "metadata": {},
   "source": [
    "### Create the IR files for the inference model\n",
    "The Intel® Distribution of OpenVINO™ toolkit includes the [Model Optimizer](http://docs.openvinotoolkit.org/latest/_docs_MO_DG_Deep_Learning_Model_Optimizer_DevGuide.html) used to convert and optimize trained models into the Intermediate Representation (IR) model files, and the [Inference Engine](http://docs.openvinotoolkit.org/latest/_docs_IE_DG_Deep_Learning_Inference_Engine_DevGuide.html) that uses the IR model files to run inference on hardware devices.  The IR model files can be created from trained models from popular frameworks (e.g. Caffe\\*, Tensorflow*, etc.). \n",
    "The Intel® Distribution of OpenVINO™ toolkit also includes the [Model Downloader](http://docs.openvinotoolkit.org/latest/_tools_downloader_README.html) utility  to download some common inference models from the [Open Model Zoo](https://github.com/opencv/open_model_zoo). \n",
    "\n",
    "Run the following cell to run the Model Downloader utility with the `--print_all` argument to see all the available inference models."
   ]
  },
  {
   "cell_type": "code",
   "execution_count": null,
   "metadata": {},
   "outputs": [],
   "source": [
    "!downloader.py --name squeezenet1.1 -o raw_model"
   ]
  },
  {
   "cell_type": "markdown",
   "metadata": {},
   "source": [
    "Now, use converter.py to converts the models that are not in the Inference Engine IR format into that format using Model Optimizer.\n"
   ]
  },
  {
   "cell_type": "code",
   "execution_count": null,
   "metadata": {},
   "outputs": [],
   "source": [
    "!converter.py --name squeezenet1.1 -d raw_model -o model"
   ]
  },
  {
   "cell_type": "markdown",
   "metadata": {},
   "source": [
    "### Configuration\n",
    "Here we will create and set the following configuration parameters used by the sample:  \n",
    "* **model_xml** - Path to the .xml IR file of the trained model to use for inference\n",
    "* **model_bin** - Path to the .bin IR file of the trained model to use for inference (derived from *model_xml*)\n",
    "* **input_path** - Path to input image\n",
    "* **device** - Specify the target device to infer on,  CPU, GPU or MYRIAD is acceptable, however the device must be present.  For this tutorial we use \"CPU\" which is known to be present.\n",
    "* **report_top_n** - Number of top-n classification results to report\n",
    "* **labels_path** - Path to labels mapping file used to map outputted integers to strings (e.g. 7=\"car\")\n",
    "\n",
    "We will set all parameters here only once except for *input_path* which we will change later to point to different images."
   ]
  },
  {
   "cell_type": "code",
   "execution_count": null,
   "metadata": {
    "ExecuteTime": {
     "end_time": "2020-09-25T21:07:44.707091Z",
     "start_time": "2020-09-25T21:07:44.697115Z"
    }
   },
   "outputs": [],
   "source": [
    "# model IR files\n",
    "model_xml = \"model/public/squeezenet1.1/FP32/squeezenet1.1.xml\"\n",
    "model_bin = \"model/public/squeezenet1.1/FP32/squeezenet1.1.bin\"\n",
    "\n",
    "# input image file\n",
    "input_path = \"./dog.jpg\"\n",
    "   \n",
    "# CPU extension library to use\n",
    "cpu_extension_path = os.path.expanduser(\"~\")+\"/inference_engine_samples/intel64/Release/lib/libcpu_extension.so\"\n",
    "\n",
    "# device to use\n",
    "device = \"CPU\"\n",
    "\n",
    "# number of top results to display\n",
    "report_top_n = 10\n",
    "\n",
    "# output labels \n",
    "labels_path = \"squeezenet1.1.labels\"\n",
    "\n",
    "print(\"Configuration parameters settings:\"\n",
    "     \"\\n\\tmodel_xml=\", model_xml,\n",
    "      \"\\n\\tmodel_bin=\", model_bin,\n",
    "      \"\\n\\tinput_path=\", input_path,\n",
    "      \"\\n\\tdevice=\", device, \n",
    "      \"\\n\\tlabels_path=\", labels_path, \n",
    "      \"\\n\\treport_top_n=\", report_top_n)"
   ]
  },
  {
   "cell_type": "markdown",
   "metadata": {},
   "source": [
    "### Create inference engine instance\n",
    "\n",
    "Next we create the Inference Engine instance to be used by our application.\n"
   ]
  },
  {
   "cell_type": "code",
   "execution_count": null,
   "metadata": {
    "ExecuteTime": {
     "end_time": "2020-09-25T21:07:47.822803Z",
     "start_time": "2020-09-25T21:07:47.814876Z"
    }
   },
   "outputs": [],
   "source": [
    "# create Inference Engine instance\n",
    "ie = IECore()\n",
    "print(\"An Inference Engine object has been created\")"
   ]
  },
  {
   "cell_type": "markdown",
   "metadata": {},
   "source": [
    "### Create network\n",
    "\n",
    "Here we create an IENetwork object and load the model's IR files into it. After loading the model, we check to make sure that all the model's layers are supported by the plugin we will use. We also check to make sure that the model's input and output are as expected for later when we run inference."
   ]
  },
  {
   "cell_type": "code",
   "execution_count": null,
   "metadata": {
    "ExecuteTime": {
     "end_time": "2020-09-25T21:09:24.247370Z",
     "start_time": "2020-09-25T21:09:24.224959Z"
    }
   },
   "outputs": [],
   "source": [
    "# load network from IR files\n",
    "net = ie.read_network(model=model_xml, weights=model_bin)\n",
    "print(\"Loaded model IR files [\",model_bin,\"] and [\", model_xml, \"]\\n\")\n",
    "\n",
    "# check to make sure that the plugin has support for all layers in the loaded model\n",
    "#TODO:replace deprecated layers.keys() with ngraph iterator\n",
    "'''supported_layers = ie.query_network(net,device)\n",
    "not_supported_layers = [l for l in net.layers.keys() if l not in supported_layers]\n",
    "if len(not_supported_layers) != 0:\n",
    "    print(\"ERROR: Following layers are not supported by the plugin for specified\",\n",
    "          \" device {}:\\n {}\".format(device, ', '.join(not_supported_layers)))\n",
    "    assert 0 == 1, \"ERROR: Missing support for all layers in the model,\" \\\n",
    "               + \" cannot continue.\"'''\n",
    "\n",
    "# check to make sue that the model's input and output are what is expected\n",
    "assert len(net.input_info.keys()) == 1, \\\n",
    "    \"ERROR: This sample supports only single input topologies\"\n",
    "assert len(net.outputs) == 1, \\\n",
    "    \"ERROR: This sample supports only single output topologies\"\n",
    "print(\"SUCCESS: Model IR files have been loaded and verified\")"
   ]
  },
  {
   "cell_type": "markdown",
   "metadata": {},
   "source": [
    "### Load model\n",
    "\n",
    "Here we load the model network into the plugin so that we may run inference.  `exec_net` will be used later to actually run inference.  After loading, we store the names of the input (`input_blob`) and output (`output_blob`) blobs to use when accessing the input and output blobs of the model.  Lastly, we store the model's input dimensions into the following variables:\n",
    "- `n` = input batch size\n",
    "- `c` = number of input channels (here 1 channel per color R,G, and B)\n",
    "- `h` = input height\n",
    "- `w` = input width"
   ]
  },
  {
   "cell_type": "code",
   "execution_count": null,
   "metadata": {
    "ExecuteTime": {
     "end_time": "2020-09-25T21:09:26.783272Z",
     "start_time": "2020-09-25T21:09:26.622176Z"
    }
   },
   "outputs": [],
   "source": [
    "exec_net = ie.load_network(network=net, num_requests=2, device_name=device)\n",
    "\n",
    "# store name of input and output blobs\n",
    "input_blob = next(iter(net.input_info))\n",
    "output_blob = next(iter(net.outputs))\n",
    "\n",
    "# read the input's dimensions: n=batch size, c=number of channels, h=height, w=width\n",
    "n, c, h, w = net.input_info[input_blob].input_data.shape\n",
    "print(\"Loaded model into Inference Engine for device:\", device, \n",
    "      \"\\nModel input dimensions: n=\",n,\", c=\",c,\", h=\",h,\", w=\",w)"
   ]
  },
  {
   "cell_type": "markdown",
   "metadata": {},
   "source": [
    "### Load labels\n",
    "\n",
    "For each detected object, the output from the model will include an integer to indicate which type of trained object has been detected (e.g. daisy, bee, etc.). To translate the integer into a more readable text string, a label mapping file may be used. The label mapping file is simply a text file where the line number is used for the index into a lookup table to be used later while reporting detected objects.\n",
    "\n",
    "Here, if the `labels_path` variable has been set to point to a label mapping file, we open the file and load the labels into the variable `labels_map`."
   ]
  },
  {
   "cell_type": "code",
   "execution_count": null,
   "metadata": {
    "ExecuteTime": {
     "end_time": "2020-09-25T21:09:31.938090Z",
     "start_time": "2020-09-25T21:09:31.927017Z"
    }
   },
   "outputs": [],
   "source": [
    "labels_map = None\n",
    "# if labels points to a label mapping file, then load the file into labels_map\n",
    "print(labels_path)\n",
    "if os.path.isfile(labels_path):\n",
    "    with open(labels_path, 'r') as f:\n",
    "        labels_map = [x.split(sep=' ', maxsplit=1)[-1].strip() for x in f]\n",
    "    print(\"Loaded label mapping file [\",labels_path,\"]\")\n",
    "else:\n",
    "    print(\"No label mapping file has been loaded, only numbers will be used\",\n",
    "          \" for detected object labels\")"
   ]
  },
  {
   "cell_type": "markdown",
   "metadata": {},
   "source": [
    "### Prepare input\n",
    "\n",
    "Here we read and then prepare the input image by resizing and re-arranging its dimensions according to the model's input dimensions. We define the functions `loadInputImage()` and `resizeInputImage()` for the operations so that we may reuse them again later in the tutorial."
   ]
  },
  {
   "cell_type": "code",
   "execution_count": null,
   "metadata": {
    "ExecuteTime": {
     "end_time": "2020-09-25T21:09:35.926709Z",
     "start_time": "2020-09-25T21:09:34.305369Z"
    }
   },
   "outputs": [],
   "source": [
    "# define function to load an input image\n",
    "def loadInputImage(input_path):\n",
    "    # globals to store input width and height\n",
    "    global input_w, input_h\n",
    "    \n",
    "    # use OpenCV to load the input image\n",
    "    cap = cv2.VideoCapture(input_path) \n",
    "    \n",
    "    # store input width and height\n",
    "    input_w = cap.get(3)\n",
    "    input_h = cap.get(4)\n",
    "    print(\"Loaded input image [\",input_path,\"], resolution=\", input_w, \"w x \",\n",
    "          input_h, \"h\")\n",
    "\n",
    "    # load the input image\n",
    "    ret, image = cap.read()\n",
    "    del cap\n",
    "    return image\n",
    "\n",
    "# define function for resizing input image\n",
    "def resizeInputImage(image):\n",
    "    # resize image dimensions form image to model's input w x h\n",
    "    in_frame = cv2.resize(image, (w, h))\n",
    "    # Change data layout from HWC to CHW\n",
    "    in_frame = in_frame.transpose((2, 0, 1))  \n",
    "    # reshape to input dimensions\n",
    "    in_frame = in_frame.reshape((n, c, h, w))\n",
    "    print(\"Resized input image from {} to {}\".format(image.shape[:-1], (h, w)))\n",
    "    return in_frame\n",
    "\n",
    "# load image\n",
    "image = loadInputImage(input_path)\n",
    "\n",
    "# resize the input image\n",
    "in_frame = resizeInputImage(image)\n",
    "\n",
    "# display input image\n",
    "print(\"Input image:\")\n",
    "plt.axis(\"off\")\n",
    "plt.imshow(cv2.cvtColor(image, cv2.COLOR_BGR2RGB))"
   ]
  },
  {
   "cell_type": "markdown",
   "metadata": {},
   "source": [
    "### Run inference\n",
    "\n",
    "Now that we have the input image in the correct format for the model, we now run inference on the input image that was previously set to `./dog.jpg`:\n",
    "<img src=\"dog.jpg\" style=\"width:150px\"/>"
   ]
  },
  {
   "cell_type": "code",
   "execution_count": null,
   "metadata": {
    "ExecuteTime": {
     "end_time": "2020-09-25T21:09:39.128876Z",
     "start_time": "2020-09-25T21:09:39.117368Z"
    }
   },
   "outputs": [],
   "source": [
    "# save start time\n",
    "inf_start = time.time()\n",
    "\n",
    "# run inference\n",
    "res = exec_net.infer(inputs={input_blob: in_frame})   \n",
    "\n",
    "# calculate time from start until now\n",
    "inf_time = time.time() - inf_start\n",
    "print(\"Inference complete, run time: {:.3f} ms\".format(inf_time * 1000))"
   ]
  },
  {
   "cell_type": "markdown",
   "metadata": {},
   "source": [
    "### Process and display results\n",
    "\n",
    "Now we process the inference results by sorting all the possible classes by the probability assigned during inference, then selecting and displaying the top `report_top_n` items.  We define the function `processAndDisplayResults()` so that we may use it again later in the tutorial to process results."
   ]
  },
  {
   "cell_type": "code",
   "execution_count": null,
   "metadata": {
    "ExecuteTime": {
     "end_time": "2020-09-25T21:09:42.024637Z",
     "start_time": "2020-09-25T21:09:40.833442Z"
    }
   },
   "outputs": [],
   "source": [
    "# create function to process inference results\n",
    "def processAndDisplayResults(probs, orig_input_image, orig_input_path):\n",
    "    # display image\n",
    "    plt.figure()\n",
    "    plt.axis(\"off\")\n",
    "    im_to_show = cv2.cvtColor(orig_input_image, cv2.COLOR_BGR2RGB)\n",
    "\n",
    "    # report top n results for image\n",
    "    print(\"Top \", report_top_n, \" results for image\",orig_input_path,\":\")\n",
    "    \n",
    "    # remove dimensions of length=1\n",
    "    probs = np.squeeze(probs)\n",
    "    \n",
    "    # sort then return top report_top_n entries\n",
    "    top_ind = np.argsort(probs)[-report_top_n:][::-1]\n",
    "    \n",
    "    # show input image\n",
    "    plt.imshow(im_to_show)\n",
    "    \n",
    "    # print out top probabilities, looking up label\n",
    "    print(\"Probability% is <label>\")\n",
    "    for id in top_ind:\n",
    "        det_label = labels_map[id] if labels_map else \"#{}\".format(id)\n",
    "        print(\" {:.7f} % is {}\".format(probs[id], det_label))\n",
    "    print(\"\\n\")\n",
    "\n",
    "processAndDisplayResults(res[output_blob][0], image, input_path)\n",
    "print(\"Processed and displayed inference output results.\")"
   ]
  },
  {
   "cell_type": "markdown",
   "metadata": {},
   "source": [
    "## Exercise #1: Run a different image\n",
    "\n",
    "Now that we have seen all the steps, let us run them again on a different image.  We also define `inferImage()` to combine the input processing, inference, and processing and displaying results so that we may use it again later in the tutorial."
   ]
  },
  {
   "cell_type": "code",
   "execution_count": null,
   "metadata": {
    "ExecuteTime": {
     "end_time": "2020-09-25T21:09:45.925703Z",
     "start_time": "2020-09-25T21:09:44.174845Z"
    }
   },
   "outputs": [],
   "source": [
    "# define function to prepare input, run inference, and process inference results\n",
    "def inferImage(image, input_path):\n",
    "    # prepare input\n",
    "    in_frame = resizeInputImage(image)\n",
    "\n",
    "    # run inference\n",
    "    res = exec_net.infer(inputs={input_blob: in_frame})   \n",
    "\n",
    "    # process inference results \n",
    "    processAndDisplayResults(res[output_blob][0], image, input_path)\n",
    "\n",
    "# set path to different input image\n",
    "input_path=\"cat.jpg\"\n",
    "\n",
    "# load input image\n",
    "image = loadInputImage(input_path)\n",
    "\n",
    "# infer image and display results\n",
    "inferImage(image, input_path)"
   ]
  },
  {
   "cell_type": "markdown",
   "metadata": {},
   "source": [
    "## Exercise #2: (Optional) Run your own image\n",
    "\n",
    "Here you may run any image you would like by setting the `input_path` variable which may be set to a local file or URL.  A sample URL is provided as an example."
   ]
  },
  {
   "cell_type": "code",
   "execution_count": null,
   "metadata": {
    "ExecuteTime": {
     "end_time": "2020-09-25T21:09:49.951773Z",
     "start_time": "2020-09-25T21:09:49.079688Z"
    }
   },
   "outputs": [],
   "source": [
    "# input_path may be set to a local file or URL\n",
    "input_path = \"https://cdn.pixabay.com/photo/2015/06/25/12/27/daisy-821222_1280.jpg\"\n",
    "\n",
    "# load input image\n",
    "image = loadInputImage(input_path)\n",
    "\n",
    "# infer image and display results\n",
    "inferImage(image, input_path)"
   ]
  },
  {
   "cell_type": "markdown",
   "metadata": {},
   "source": [
    "### Inferring input images in batches\n",
    "\n",
    "We have seen how to run inference on a single input image, we will now see how to infer multiple input images in batches.  Inferring in batches follows the same steps as when inferring a single input image, including using a single call to perform inference, except that an array (batch) of inputs must be prepared and an array (batch) of outputs must be processed."
   ]
  },
  {
   "cell_type": "markdown",
   "metadata": {},
   "source": [
    "### Preparing a batch of inputs\n",
    "\n",
    "Preparing a batch of input images is much like when preparing a single image except that the input to inference is now an array of inputs stored in `batch_paths`.  Running multiple input images also means that arrays (`orig_image_paths` and `orig_images`) are needed to store input data to be used later."
   ]
  },
  {
   "cell_type": "code",
   "execution_count": null,
   "metadata": {
    "ExecuteTime": {
     "end_time": "2020-09-25T21:09:52.639310Z",
     "start_time": "2020-09-25T21:09:52.047913Z"
    }
   },
   "outputs": [],
   "source": [
    "# batch of inputs which may be local files or URLs (comma separated)\n",
    "batch_paths = [\"./dog.jpg\", \"./cat.jpg\", \"./bird.jpg\"]\n",
    "\n",
    "# define function to load input images into input batch\n",
    "def batchLoadInputImages(batch_paths):\n",
    "    global batch_size\n",
    "    global batch_images\n",
    "    global orig_image_paths\n",
    "    global orig_images\n",
    "    batch_size = len(batch_paths)\n",
    "\n",
    "    # create input batch (array) of input images \n",
    "    batch_images = np.ndarray(shape=(batch_size, c, h, w))\n",
    "\n",
    "    # create array to hold original images and paths for displaying later\n",
    "    orig_images = []\n",
    "    orig_image_paths = []\n",
    "\n",
    "    for i in range(batch_size):\n",
    "        # load image\n",
    "        image = loadInputImage(batch_paths[i])\n",
    "\n",
    "        # save original image and path\n",
    "        orig_images.append(image)\n",
    "        orig_image_paths.append(batch_paths[i])\n",
    "\n",
    "        # prepare input\n",
    "        in_frame = resizeInputImage(image)\n",
    "\n",
    "        # add input to batch\n",
    "        batch_images[i] = in_frame\n",
    "    return batch_size, batch_images, orig_image_paths, orig_images\n",
    "\n",
    "batchLoadInputImages(batch_paths)\n",
    "print(\"Loaded\", batch_size, \"images.\")"
   ]
  },
  {
   "cell_type": "markdown",
   "metadata": {},
   "source": [
    "### Running inference on a batch of inputs\n",
    "\n",
    "To process all the input images, the inference model needs to know how large the input array (batch) is.  Batch size is set using `<IENetwork>.batch_size = <n>`.  This will change the batch size of the network before it has been loaded into the Inference Engine.  To get the change to take effect, we must reload the network into the plugin before running inference.\n",
    "\n",
    "Inference will be run on the previous setting of `batch_paths` for the three images `./dog.jpg`, `./cat.jpg`, and `./bird.jpg\"`:\n",
    "<div><img src=\"dog.jpg\" style=\"height:150px; display: inline-block\"/>\n",
    "<img src=\"cat.jpg\" style=\"height:150px; display: inline-block\"/>\n",
    "<img src=\"bird.jpg\" style=\"height:150px; display: inline-block\"/></div>"
   ]
  },
  {
   "cell_type": "code",
   "execution_count": null,
   "metadata": {
    "ExecuteTime": {
     "end_time": "2020-09-25T21:09:55.380910Z",
     "start_time": "2020-09-25T21:09:55.214987Z"
    }
   },
   "outputs": [],
   "source": [
    "# set the batch size to match the number of input images\n",
    "net.batch_size = batch_size\n",
    "print(\"Network batch size set to\", batch_size)\n",
    "\n",
    "## reload network because batch size has changed \n",
    "exec_net = ie.load_network(network=net, num_requests=2, device_name=device)\n",
    "\n",
    "\n",
    "# save start time\n",
    "inf_start = time.time()\n",
    "\n",
    "# run inference\n",
    "res = exec_net.infer(inputs={input_blob: batch_images})   \n",
    "\n",
    "# calculate time from start until now\n",
    "inf_time = time.time() - inf_start\n",
    "print(\"Inference complete, run time: {:.3f} ms\".format(inf_time * 1000))"
   ]
  },
  {
   "cell_type": "markdown",
   "metadata": {},
   "source": [
    "### Processing and displaying a batch of outputs"
   ]
  },
  {
   "cell_type": "code",
   "execution_count": null,
   "metadata": {
    "ExecuteTime": {
     "end_time": "2020-09-25T21:10:00.986064Z",
     "start_time": "2020-09-25T21:09:57.386720Z"
    }
   },
   "outputs": [],
   "source": [
    "# create function to process inference results\n",
    "def batchProcessAndDisplayResults(result, orig_input_images, orig_image_paths):\n",
    "    # get output results\n",
    "    res = result[output_blob]\n",
    "\n",
    "    for i, probs in enumerate(res):\n",
    "        processAndDisplayResults(probs, orig_input_images[i], orig_image_paths[i])\n",
    "        \n",
    "# process inference results \n",
    "batchProcessAndDisplayResults(res, orig_images, orig_image_paths)"
   ]
  },
  {
   "cell_type": "markdown",
   "metadata": {},
   "source": [
    "## Exercise #3: (Optional) Run your own batch of images\n",
    "\n",
    "Here you may run any image you would like by setting the `batch_paths` variable to an array of paths, which may be a local file or URL.  A sample array is provided as an example."
   ]
  },
  {
   "cell_type": "code",
   "execution_count": null,
   "metadata": {
    "ExecuteTime": {
     "end_time": "2020-09-25T21:10:05.232692Z",
     "start_time": "2020-09-25T21:10:03.044849Z"
    }
   },
   "outputs": [],
   "source": [
    "# batch of inputs which may be local files or URLs (comma separated)\n",
    "batch_paths = [\n",
    "    \"https://cdn.pixabay.com/photo/2015/06/25/12/27/daisy-821222_1280.jpg\",\n",
    "    \"./cat.jpg\"]\n",
    "\n",
    "# load batch of inputs\n",
    "batchLoadInputImages(batch_paths)\n",
    "print(\"Loaded\", batch_size, \"images.\")\n",
    "\n",
    "# set the batch size to match the number of input images\n",
    "net.batch_size = batch_size\n",
    "print(\"Network batch size set to\", batch_size)\n",
    "\n",
    "# reload network because batch size has changed \n",
    "exec_net = ie.load_network(network=net, num_requests=2, device_name=device)\n",
    "\n",
    "# run inference\n",
    "res = exec_net.infer(inputs={input_blob: batch_images})   \n",
    "\n",
    "# process inference results \n",
    "batchProcessAndDisplayResults(res, orig_images, orig_image_paths)\n",
    "\n",
    "print(\"Done.\")"
   ]
  },
  {
   "cell_type": "markdown",
   "metadata": {},
   "source": [
    "### Report performance counters\n",
    "After running inference, the performance counters may be read from an internal request object using the function `get_perf_counts()` to see which layers of the inference model were run and how much time was spent in each.  Performance counts (metrics) reported include:\n",
    "- **name** - Name of layer within the inference model\n",
    "- **layer_type** - Type (or function) of layer (e.g. convolution, concat, etc.)\n",
    "- **exec_type** - Execution type for the layer.  The name may be used to identify which device has been run.  For example, entries starting with `jit_` indicate the CPU was used.\n",
    "- **status** - Whether the layer had been executed or not\n",
    "- **real_time** - Time in microseconds spent running layer"
   ]
  },
  {
   "cell_type": "code",
   "execution_count": null,
   "metadata": {
    "ExecuteTime": {
     "end_time": "2020-09-25T21:10:09.925095Z",
     "start_time": "2020-09-25T21:10:09.907905Z"
    }
   },
   "outputs": [],
   "source": [
    "# retrieve performance counters from last inference request\n",
    "perf_counts = exec_net.requests[0].get_perf_counts()\n",
    "\n",
    "# display performance counters for each layer\n",
    "print(\"Performance counters:\")\n",
    "print(\"{:<40} {:<15} {:<15} {:<15} {:<10}\".format('name', 'layer_type', \n",
    "        'exec_type', 'status', 'real_time, us'))\n",
    "for layer, stats in perf_counts.items():\n",
    "    print(\"{:<40} {:<15} {:<15} {:<15} {:<10}\".format(layer,\n",
    "        stats['layer_type'], stats['exec_type'],\n",
    "        stats['status'], stats['real_time']))"
   ]
  },
  {
   "cell_type": "markdown",
   "metadata": {},
   "source": [
    "## Cleanup\n",
    "\n",
    "Now that we are done running the sample, we clean up by deleting objects before exiting."
   ]
  },
  {
   "cell_type": "code",
   "execution_count": null,
   "metadata": {
    "ExecuteTime": {
     "end_time": "2020-09-25T21:10:13.822787Z",
     "start_time": "2020-09-25T21:10:13.810378Z"
    }
   },
   "outputs": [],
   "source": [
    "del exec_net\n",
    "del net\n",
    "del ie\n",
    "\n",
    "print(\"Resource objects removed\")"
   ]
  },
  {
   "cell_type": "markdown",
   "metadata": {},
   "source": [
    "## Next steps\n",
    "\n",
    "- [More Jupyter Notebook Tutorials](https://devcloud.intel.com/edge/get_started/tutorials/) - additional sample application Jupyter* Notebook tutorials\n",
    "- [Jupyter* Notebook Samples](https://devcloud.intel.com/edge/advanced/sample_applications/) - sample applications\n",
    "- [Intel® Distribution of OpenVINO™ toolkit Main Page](https://software.intel.com/openvino-toolkit) - learn more about the tools and use of the Intel® Distribution of OpenVINO™ toolkit for implementing inference on the edge"
   ]
  },
  {
   "cell_type": "markdown",
   "metadata": {},
   "source": [
    "## About this notebook\n",
    "\n",
    "For technical support, please see the [Intel® DevCloud Forums](https://software.intel.com/en-us/forums/intel-devcloud-for-edge)"
   ]
  },
  {
   "cell_type": "markdown",
   "metadata": {},
   "source": [
    "<p style=background-color:#0071C5;color:white;padding:0.5em;display:table-cell;width:100pc;vertical-align:middle>\n",
    "<img style=float:right src=\"https://devcloud.intel.com/edge/static/images/svg/IDZ_logo.svg\" alt=\"Intel DevCloud logo\" width=\"150px\"/>\n",
    "<a style=color:white>Intel® DevCloud for the Edge</a><br>   \n",
    "<a style=color:white href=\"#top\">Top of Page</a> | \n",
    "<a style=color:white href=\"https://devcloud.intel.com/edge/static/docs/terms/Intel-DevCloud-for-the-Edge-Usage-Agreement.pdf\">Usage Agreement (Intel)</a> | \n",
    "<a style=color:white href=\"https://devcloud.intel.com/edge/static/docs/terms/Colfax_Cloud_Service_Terms_v1.3.pdf\">Service Terms (Colfax)</a>\n",
    "</p>\n"
   ]
  }
 ],
 "metadata": {
  "kernelspec": {
   "display_name": "Python 3 (OpenVINO 2021.1)",
   "language": "python",
   "name": "c003-python_3"
  },
  "language_info": {
   "codemirror_mode": {
    "name": "ipython",
    "version": 3
   },
   "file_extension": ".py",
   "mimetype": "text/x-python",
   "name": "python",
   "nbconvert_exporter": "python",
   "pygments_lexer": "ipython3",
   "version": "3.6.9"
  },
  "nbTranslate": {
   "displayLangs": [
    "*"
   ],
   "hotkey": "alt-t",
   "langInMainMenu": true,
   "sourceLang": "en",
   "targetLang": "fr",
   "useGoogleTranslate": true
  },
  "toc": {
   "base_numbering": 1,
   "nav_menu": {},
   "number_sections": true,
   "sideBar": true,
   "skip_h1_title": true,
   "title_cell": "Table of Contents",
   "title_sidebar": "Contents",
   "toc_cell": false,
   "toc_position": {
    "height": "calc(100% - 180px)",
    "left": "10px",
    "top": "150px",
    "width": "186.6px"
   },
   "toc_section_display": true,
   "toc_window_display": false
  }
 },
 "nbformat": 4,
 "nbformat_minor": 2
}
